{
 "cells": [
  {
   "cell_type": "code",
   "execution_count": 21,
   "id": "21bfa2c5-b619-4f0d-94e2-5cd311027a57",
   "metadata": {},
   "outputs": [
    {
     "name": "stderr",
     "output_type": "stream",
     "text": [
      "C:\\Users\\user\\AppData\\Local\\Temp\\ipykernel_3808\\2379213577.py:33: DeprecationWarning: Starting with ImageIO v3 the behavior of this function will switch to that of iio.v3.imread. To keep the current behavior (and make this warning disappear) use `import imageio.v2 as imageio` or call `imageio.v2.imread` directly.\n",
      "  frames.append(imageio.imread(image_path))\n"
     ]
    },
    {
     "name": "stdout",
     "output_type": "stream",
     "text": [
      "GIF saved to Explicit_scheme/Results/time_step_0-00001_num_elements_50_50/imgs_temp_distribution\\temperature_distribution.gif\n"
     ]
    }
   ],
   "source": [
    "import os\n",
    "import numpy as np\n",
    "import matplotlib.pyplot as plt\n",
    "import imageio\n",
    "\n",
    "# Параметры\n",
    "time_step = \"0-00001\"  # это можно изменить по желанию\n",
    "num_elements = \"50\"\n",
    "Time = 100\n",
    "base_path = f\"Explicit_scheme/Results/time_step_{time_step}_num_elements_{num_elements}_{num_elements}/\"\n",
    "output_img_path = os.path.join(base_path, \"imgs_temp_distribution\")\n",
    "color_map = 'viridis'  # Задайте нужную цветовую схему\n",
    "image_dpi = 300  # Задайте нужное качество изображения\n",
    "\n",
    "\n",
    "\n",
    "# Создание папки для изображений, если её нет\n",
    "os.makedirs(output_img_path, exist_ok=True)\n",
    "\n",
    "def generate_image(data, time, output_path):\n",
    "    plt.figure(figsize=(6, 5))\n",
    "    plt.imshow(data, cmap=color_map, interpolation='nearest')\n",
    "    plt.colorbar(label='Temperature')\n",
    "    plt.title(f\"temperatures {time_step} - Time {time}\")\n",
    "    plt.xlabel(\"X-axis\")\n",
    "    plt.ylabel(\"Y-axis\")\n",
    "    plt.savefig(output_path, dpi=image_dpi)  # Сохранение с указанным качеством\n",
    "    plt.close()\n",
    "\n",
    "def create_gif(image_paths, output_gif_path):\n",
    "    frames = []\n",
    "    for image_path in image_paths:\n",
    "        frames.append(imageio.imread(image_path))\n",
    "    imageio.mimsave(output_gif_path, frames, format='GIF', loop=0, duration=3)\n",
    "\n",
    "def main():\n",
    "    image_paths = []\n",
    "    for T in range(0, Time+1, 10):\n",
    "        file_name = f\"time_step_{time_step}_Time_{T}_num_elements_{num_elements}.txt\"\n",
    "        file_path = os.path.join(base_path, file_name)\n",
    "        \n",
    "        if os.path.isfile(file_path):\n",
    "            data = np.loadtxt(file_path, skiprows=1)  # Пропускаем первую строку\n",
    "            output_image_file = os.path.join(output_img_path, f\"time_{T}.png\")\n",
    "            generate_image(data, T, output_image_file)\n",
    "            image_paths.append(output_image_file)\n",
    "        else:\n",
    "            print(f\"File not found: {file_path}\")\n",
    "    \n",
    "    if image_paths:\n",
    "        output_gif_file = os.path.join(output_img_path, \"temperature_distribution.gif\")\n",
    "        create_gif(image_paths, output_gif_file)\n",
    "        print(f\"GIF saved to {output_gif_file}\")\n",
    "    else:\n",
    "        print(\"No images were created, GIF will not be generated.\")\n",
    "\n",
    "if __name__ == \"__main__\":\n",
    "    main()\n"
   ]
  },
  {
   "cell_type": "code",
   "execution_count": 5,
   "id": "087b4375-dfe3-4cc8-ae89-ffb701dbc0d6",
   "metadata": {},
   "outputs": [],
   "source": []
  },
  {
   "cell_type": "code",
   "execution_count": null,
   "id": "07555613",
   "metadata": {},
   "outputs": [],
   "source": []
  }
 ],
 "metadata": {
  "kernelspec": {
   "display_name": "Python 3 (ipykernel)",
   "language": "python",
   "name": "python3"
  },
  "language_info": {
   "codemirror_mode": {
    "name": "ipython",
    "version": 3
   },
   "file_extension": ".py",
   "mimetype": "text/x-python",
   "name": "python",
   "nbconvert_exporter": "python",
   "pygments_lexer": "ipython3",
   "version": "3.11.7"
  }
 },
 "nbformat": 4,
 "nbformat_minor": 5
}
